{
 "cells": [
  {
   "cell_type": "markdown",
   "id": "9ace173a-44db-4fe7-9d5f-bc86817761e4",
   "metadata": {},
   "source": [
    "# Obje Tespiti"
   ]
  },
  {
   "cell_type": "code",
   "execution_count": 6,
   "id": "dbe9db03-59f7-4301-a2b9-d6d9ac53eda0",
   "metadata": {},
   "outputs": [
    {
     "name": "stdout",
     "output_type": "stream",
     "text": [
      "Collecting mediapipe\n",
      "  Downloading mediapipe-0.10.1-cp310-cp310-win_amd64.whl (50.2 MB)\n",
      "     ---------------------------------------- 50.2/50.2 MB 1.7 MB/s eta 0:00:00\n",
      "Requirement already satisfied: attrs>=19.1.0 in c:\\users\\frknq\\miniconda3\\lib\\site-packages (from mediapipe) (23.1.0)\n",
      "Requirement already satisfied: numpy in c:\\users\\frknq\\miniconda3\\lib\\site-packages (from mediapipe) (1.23.5)\n",
      "Requirement already satisfied: absl-py in c:\\users\\frknq\\miniconda3\\lib\\site-packages (from mediapipe) (1.4.0)\n",
      "Collecting opencv-contrib-python\n",
      "  Downloading opencv_contrib_python-4.8.0.74-cp37-abi3-win_amd64.whl (44.8 MB)\n",
      "     ---------------------------------------- 44.8/44.8 MB 1.7 MB/s eta 0:00:00\n",
      "Requirement already satisfied: matplotlib in c:\\users\\frknq\\miniconda3\\lib\\site-packages (from mediapipe) (3.7.1)\n",
      "Collecting protobuf<4,>=3.11\n",
      "  Downloading protobuf-3.20.3-cp310-cp310-win_amd64.whl (904 kB)\n",
      "     -------------------------------------- 904.0/904.0 kB 1.8 MB/s eta 0:00:00\n",
      "Requirement already satisfied: flatbuffers>=2.0 in c:\\users\\frknq\\miniconda3\\lib\\site-packages (from mediapipe) (23.5.26)\n",
      "Requirement already satisfied: sounddevice>=0.4.4 in c:\\users\\frknq\\miniconda3\\lib\\site-packages (from mediapipe) (0.4.6)\n",
      "Requirement already satisfied: CFFI>=1.0 in c:\\users\\frknq\\miniconda3\\lib\\site-packages (from sounddevice>=0.4.4->mediapipe) (1.15.1)\n",
      "Requirement already satisfied: kiwisolver>=1.0.1 in c:\\users\\frknq\\miniconda3\\lib\\site-packages (from matplotlib->mediapipe) (1.4.4)\n",
      "Requirement already satisfied: contourpy>=1.0.1 in c:\\users\\frknq\\miniconda3\\lib\\site-packages (from matplotlib->mediapipe) (1.0.7)\n",
      "Requirement already satisfied: pyparsing>=2.3.1 in c:\\users\\frknq\\miniconda3\\lib\\site-packages (from matplotlib->mediapipe) (3.0.9)\n",
      "Requirement already satisfied: fonttools>=4.22.0 in c:\\users\\frknq\\miniconda3\\lib\\site-packages (from matplotlib->mediapipe) (4.39.4)\n",
      "Requirement already satisfied: pillow>=6.2.0 in c:\\users\\frknq\\miniconda3\\lib\\site-packages (from matplotlib->mediapipe) (9.5.0)\n",
      "Requirement already satisfied: packaging>=20.0 in c:\\users\\frknq\\miniconda3\\lib\\site-packages (from matplotlib->mediapipe) (23.0)\n",
      "Requirement already satisfied: python-dateutil>=2.7 in c:\\users\\frknq\\miniconda3\\lib\\site-packages (from matplotlib->mediapipe) (2.8.2)\n",
      "Requirement already satisfied: cycler>=0.10 in c:\\users\\frknq\\miniconda3\\lib\\site-packages (from matplotlib->mediapipe) (0.11.0)\n",
      "Requirement already satisfied: pycparser in c:\\users\\frknq\\miniconda3\\lib\\site-packages (from CFFI>=1.0->sounddevice>=0.4.4->mediapipe) (2.21)\n",
      "Requirement already satisfied: six>=1.5 in c:\\users\\frknq\\miniconda3\\lib\\site-packages (from python-dateutil>=2.7->matplotlib->mediapipe) (1.16.0)\n",
      "Installing collected packages: protobuf, opencv-contrib-python, mediapipe\n",
      "  Attempting uninstall: protobuf\n",
      "    Found existing installation: protobuf 4.23.3\n",
      "    Uninstalling protobuf-4.23.3:\n",
      "      Successfully uninstalled protobuf-4.23.3\n",
      "Successfully installed mediapipe-0.10.1 opencv-contrib-python-4.8.0.74 protobuf-3.20.3\n"
     ]
    }
   ],
   "source": [
    "!pip install -q sounddevice\n",
    "!pip install mediapipe"
   ]
  },
  {
   "cell_type": "code",
   "execution_count": 8,
   "id": "391d0b3b-37c8-48d3-a7c1-ad7c7effdaaf",
   "metadata": {},
   "outputs": [],
   "source": [
    "from mediapipe import solutions # el tespiti için görsel işleme görevlerini\n",
    "from mediapipe.framework.formats import landmark_pb2 #\"landmark_pb2\" formatı cinsinden verileri almak için\n",
    "import numpy as np\n",
    "import cv2\n",
    "import matplotlib.pyplot as plt\n",
    "import mediapipe as mp\n",
    "from mediapipe.tasks import python\n",
    "from mediapipe.tasks.python import vision"
   ]
  },
  {
   "cell_type": "code",
   "execution_count": 9,
   "id": "6c5c0cc8-f6df-412e-b687-f9ee16c2de40",
   "metadata": {},
   "outputs": [],
   "source": [
    "MARGIN = 10 #\"Metinin üst köşesinden elin sınırına olan mesafe\"\n",
    "FONT_SIZE = 1\n",
    "FONT_THICKNESS = 1\n",
    "HANDEDNESS_TEXT_COLOR = (88,205,54) # rgb formatında yeşil renk"
   ]
  },
  {
   "cell_type": "code",
   "execution_count": 10,
   "id": "543c9278-025e-4a5e-90c4-0e989479dbba",
   "metadata": {},
   "outputs": [
    {
     "name": "stderr",
     "output_type": "stream",
     "text": [
      "'wget' is not recognized as an internal or external command,\n",
      "operable program or batch file.\n"
     ]
    }
   ],
   "source": [
    "!wget -q https://storage.googleapis.com/mediapipe-tasks/hand_landmarker/hand_landmarker.task"
   ]
  }
 ],
 "metadata": {
  "kernelspec": {
   "display_name": "Python 3 (ipykernel)",
   "language": "python",
   "name": "python3"
  },
  "language_info": {
   "codemirror_mode": {
    "name": "ipython",
    "version": 3
   },
   "file_extension": ".py",
   "mimetype": "text/x-python",
   "name": "python",
   "nbconvert_exporter": "python",
   "pygments_lexer": "ipython3",
   "version": "3.10.10"
  }
 },
 "nbformat": 4,
 "nbformat_minor": 5
}
