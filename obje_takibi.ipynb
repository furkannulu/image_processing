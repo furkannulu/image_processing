{
 "cells": [
  {
   "cell_type": "code",
   "execution_count": 2,
   "id": "6cc1b5c1-4c7e-4d7f-b393-8837b0e5385f",
   "metadata": {},
   "outputs": [],
   "source": [
    "import time\n",
    "import cv2\n",
    "import mediapipe as mp"
   ]
  },
  {
   "cell_type": "code",
   "execution_count": 9,
   "id": "c52860ac-ee8d-4e56-9e27-97a6f34ddf7a",
   "metadata": {},
   "outputs": [],
   "source": [
    "capture = cv2.VideoCapture(0) #1 veya 2 yazılabilir (hangi kamera olduğu 1. mi 2.m mi 0.yani ana kamera mı)"
   ]
  },
  {
   "cell_type": "code",
   "execution_count": 10,
   "id": "0d9e830e-d1fe-46b5-870f-3cb399fd8d59",
   "metadata": {},
   "outputs": [
    {
     "name": "stdout",
     "output_type": "stream",
     "text": [
      "640\n",
      "480\n"
     ]
    }
   ],
   "source": [
    "width = int(capture.get(cv2.CAP_PROP_FRAME_WIDTH))\n",
    "height = int(capture.get(cv2.CAP_PROP_FRAME_HEIGHT))\n",
    "print(width)\n",
    "print(height)"
   ]
  },
  {
   "cell_type": "code",
   "execution_count": null,
   "id": "0e698ea1-b514-49de-a3c1-6f8e4c7450b8",
   "metadata": {},
   "outputs": [],
   "source": []
  }
 ],
 "metadata": {
  "kernelspec": {
   "display_name": "Python 3 (ipykernel)",
   "language": "python",
   "name": "python3"
  },
  "language_info": {
   "codemirror_mode": {
    "name": "ipython",
    "version": 3
   },
   "file_extension": ".py",
   "mimetype": "text/x-python",
   "name": "python",
   "nbconvert_exporter": "python",
   "pygments_lexer": "ipython3",
   "version": "3.10.10"
  }
 },
 "nbformat": 4,
 "nbformat_minor": 5
}
